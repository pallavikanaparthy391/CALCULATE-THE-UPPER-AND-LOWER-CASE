{
 "cells": [
  {
   "cell_type": "code",
   "execution_count": 1,
   "id": "b3e7ce01",
   "metadata": {},
   "outputs": [
    {
     "name": "stdout",
     "output_type": "stream",
     "text": [
      "Original String :  The quick Brown Fox\n",
      "No. of Upper case characters :  3\n",
      "No. of Lower case Characters :  13\n"
     ]
    }
   ],
   "source": [
    "def string_test(s):\n",
    "    d={\"UPPER_CASE\":0, \"LOWER_CASE\":0}\n",
    "    for char in s:\n",
    "        if char.isupper():                 #count the upper case values in a string\n",
    "           d[\"UPPER_CASE\"]+=1\n",
    "        elif char.islower():               #count the lower case values in a string\n",
    "           d[\"LOWER_CASE\"]+=1\n",
    "        else:\n",
    "           pass\n",
    "    print (\"Original String : \", s)\n",
    "    print (\"No. of Upper case characters : \", d[\"UPPER_CASE\"])\n",
    "    print (\"No. of Lower case Characters : \", d[\"LOWER_CASE\"])\n",
    "\n",
    "string_test('The quick Brown Fox')     #taken as input string"
   ]
  },
  {
   "cell_type": "code",
   "execution_count": null,
   "id": "93ec56a5",
   "metadata": {},
   "outputs": [],
   "source": []
  },
  {
   "cell_type": "markdown",
   "id": "128ac42b",
   "metadata": {},
   "source": [
    "# TEST CASES\n"
   ]
  },
  {
   "cell_type": "code",
   "execution_count": 2,
   "id": "9b274534",
   "metadata": {},
   "outputs": [
    {
     "name": "stdout",
     "output_type": "stream",
     "text": [
      "Original String :  Happy new year\n",
      "No. of Upper case characters :  1\n",
      "No. of Lower case Characters :  11\n"
     ]
    }
   ],
   "source": [
    "def string_test(s):\n",
    "    d={\"UPPER_CASE\":0, \"LOWER_CASE\":0}\n",
    "    for char in s:\n",
    "        if char.isupper():              #count the upper case values in a string\n",
    "           d[\"UPPER_CASE\"]+=1\n",
    "        elif char.islower():            #count the lower case values in a string\n",
    "           d[\"LOWER_CASE\"]+=1\n",
    "        else:\n",
    "           pass\n",
    "    print (\"Original String : \", s)\n",
    "    print (\"No. of Upper case characters : \", d[\"UPPER_CASE\"])\n",
    "    print (\"No. of Lower case Characters : \", d[\"LOWER_CASE\"])\n",
    "\n",
    "string_test('Happy new year') #taken as input string\n"
   ]
  },
  {
   "cell_type": "markdown",
   "id": "0a824357",
   "metadata": {},
   "source": [
    "# Test case"
   ]
  },
  {
   "cell_type": "code",
   "execution_count": 4,
   "id": "0f8e552a",
   "metadata": {},
   "outputs": [
    {
     "name": "stdout",
     "output_type": "stream",
     "text": [
      "Original String :  Happy CHRISTMAS\n",
      "No. of Upper case characters :  10\n",
      "No. of Lower case Characters :  4\n"
     ]
    }
   ],
   "source": [
    "def string_test(s):  #define a function\n",
    "    d={\"UPPER_CASE\":0, \"LOWER_CASE\":0}\n",
    "           d[\"UPPER_CASE\"]+=1\n",
    "    for char in s:\n",
    "        if char.isupper():           #count the upper case values in a string\n",
    "        elif char.islower():         #count the lower case values in a string\n",
    "           d[\"LOWER_CASE\"]+=1\n",
    "        else:\n",
    "           pass\n",
    "    print (\"Original String : \", s)\n",
    "    print (\"No. of Upper case characters : \", d[\"UPPER_CASE\"])\n",
    "    print (\"No. of Lower case Characters : \", d[\"LOWER_CASE\"])\n",
    "\n",
    "string_test('Happy CHRISTMAS')      #taken as input string"
   ]
  },
  {
   "cell_type": "code",
   "execution_count": null,
   "id": "6ce2ae7f",
   "metadata": {},
   "outputs": [],
   "source": []
  },
  {
   "cell_type": "code",
   "execution_count": null,
   "id": "016faf36",
   "metadata": {},
   "outputs": [],
   "source": []
  }
 ],
 "metadata": {
  "kernelspec": {
   "display_name": "Python 3 (ipykernel)",
   "language": "python",
   "name": "python3"
  },
  "language_info": {
   "codemirror_mode": {
    "name": "ipython",
    "version": 3
   },
   "file_extension": ".py",
   "mimetype": "text/x-python",
   "name": "python",
   "nbconvert_exporter": "python",
   "pygments_lexer": "ipython3",
   "version": "3.10.1"
  }
 },
 "nbformat": 4,
 "nbformat_minor": 5
}
